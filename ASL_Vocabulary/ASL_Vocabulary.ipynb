{
 "cells": [
  {
   "cell_type": "markdown",
   "metadata": {},
   "source": [
    "# **Introduction**\n",
    "\n",
    "This project includes software developed by MuteMotion: WLASL Translation Model.\n",
    "For more information, see [\\[Link to the original repository\\]](https://www.kaggle.com/code/abd0kamel/mutemotion-wlasl-translation-model#MediaPipe-Implementation).\n",
    "\n",
    "Licensed under the Apache License, Version 2.0 (the \"License\");\n",
    "you may not use this file except in compliance with the License.\n",
    "You may obtain a copy of the License at\n",
    "\n",
    "   http://www.apache.org/licenses/LICENSE-2.0\n",
    "\n",
    "Unless required by applicable law or agreed to in writing, software\n",
    "distributed under the License is distributed on an \"AS IS\" BASIS,\n",
    "WITHOUT WARRANTIES OR CONDITIONS OF ANY KIND, either express or implied.\n",
    "See the License for the specific language governing permissions and\n",
    "limitations under the License.\n"
   ]
  },
  {
   "cell_type": "markdown",
   "metadata": {},
   "source": [
    "---"
   ]
  },
  {
   "cell_type": "markdown",
   "metadata": {},
   "source": [
    "# Importing Libraries"
   ]
  },
  {
   "cell_type": "code",
   "execution_count": null,
   "metadata": {
    "ExecuteTime": {
     "end_time": "2024-02-10T22:42:31.697998Z",
     "start_time": "2024-02-10T22:42:29.666613Z"
    },
    "execution": {
     "iopub.execute_input": "2024-02-10T08:07:41.099772Z",
     "iopub.status.busy": "2024-02-10T08:07:41.099550Z",
     "iopub.status.idle": "2024-02-10T08:07:50.880304Z",
     "shell.execute_reply": "2024-02-10T08:07:50.879350Z",
     "shell.execute_reply.started": "2024-02-10T08:07:41.099747Z"
    },
    "scrolled": true,
    "trusted": true
   },
   "outputs": [],
   "source": [
    "%pip install -q mediapipe==0.10.7"
   ]
  },
  {
   "cell_type": "code",
   "execution_count": null,
   "metadata": {
    "ExecuteTime": {
     "end_time": "2024-02-10T22:42:31.705397Z",
     "start_time": "2024-02-10T22:42:31.699586Z"
    },
    "_cell_guid": "b1076dfc-b9ad-4769-8c92-a6c4dae69d19",
    "_uuid": "8f2839f25d086af736a60e9eeb907d3b93b6e0e5",
    "execution": {
     "iopub.execute_input": "2024-02-10T08:07:50.882158Z",
     "iopub.status.busy": "2024-02-10T08:07:50.881883Z",
     "iopub.status.idle": "2024-02-10T08:07:52.196910Z",
     "shell.execute_reply": "2024-02-10T08:07:52.191867Z",
     "shell.execute_reply.started": "2024-02-10T08:07:50.882134Z"
    },
    "trusted": true
   },
   "outputs": [],
   "source": [
    "import os\n",
    "import gc\n",
    "import cv2\n",
    "import json\n",
    "import math\n",
    "import time\n",
    "import shutil\n",
    "import numpy as np\n",
    "from tqdm import tqdm\n",
    "import mediapipe as mp\n",
    "import tensorflow as tf\n",
    "import matplotlib.pyplot as plt\n",
    "from sklearn.preprocessing import LabelEncoder\n",
    "from concurrent.futures import ThreadPoolExecutor\n",
    "from IPython.display import clear_output, FileLink"
   ]
  },
  {
   "cell_type": "markdown",
   "metadata": {},
   "source": [
    "---"
   ]
  },
  {
   "cell_type": "markdown",
   "metadata": {},
   "source": [
    "# Data Preparation\n",
    "## (Done Once)"
   ]
  },
  {
   "cell_type": "code",
   "execution_count": null,
   "metadata": {
    "ExecuteTime": {
     "end_time": "2024-02-10T22:42:31.762844Z",
     "start_time": "2024-02-10T22:42:31.702309Z"
    },
    "execution": {
     "iopub.status.busy": "2024-02-10T08:07:52.197590Z",
     "iopub.status.idle": "2024-02-10T08:07:52.197911Z",
     "shell.execute_reply": "2024-02-10T08:07:52.197767Z",
     "shell.execute_reply.started": "2024-02-10T08:07:52.197751Z"
    },
    "trusted": true
   },
   "outputs": [],
   "source": [
    "# Load the dataset\n",
    "\n",
    "with open('input/wlasl-processed/WLASL_v0.3.json', 'r') as json_file:\n",
    "    all_data = json.load(json_file)"
   ]
  },
  {
   "cell_type": "markdown",
   "metadata": {},
   "source": [
    "* `gloss`: the word being expressed  \n",
    "* `video_path`: the path to the video in the dataset\n",
    "* `frame_start`: the frame number where the word starts\n",
    "* `frame_end`: the frame number where each word ends\n",
    "* `split`: the type of data when modeling (train, val, test)"
   ]
  },
  {
   "cell_type": "code",
   "execution_count": null,
   "metadata": {
    "ExecuteTime": {
     "end_time": "2024-02-10T22:42:31.869785Z",
     "start_time": "2024-02-10T22:42:31.767270Z"
    },
    "execution": {
     "iopub.status.busy": "2024-02-10T08:07:52.199174Z",
     "iopub.status.idle": "2024-02-10T08:07:52.199475Z",
     "shell.execute_reply": "2024-02-10T08:07:52.199339Z",
     "shell.execute_reply.started": "2024-02-10T08:07:52.199325Z"
    },
    "trusted": true
   },
   "outputs": [],
   "source": [
    "video_dir = 'input/wlasl-processed/videos'\n",
    "backup_dir = 'input/wlasl2000-resized/wlasl-complete/videos'\n",
    "data = [] # formatted data\n",
    "\n",
    "for i in tqdm(range(len(all_data)), ncols=100):\n",
    "    gloss = all_data[i]['gloss']\n",
    "    instances = all_data[i]['instances']\n",
    "    for instance in instances:\n",
    "        video_id = instance['video_id']\n",
    "        if os.path.exists(os.path.join(video_dir, f'{video_id}.mp4')):\n",
    "            video_path = os.path.join(video_dir, f'{video_id}.mp4')\n",
    "        elif os.path.exists(os.path.join(backup_dir, f'{video_id}.mp4')):\n",
    "            video_path = os.path.join(backup_dir, f'{video_id}.mp4')\n",
    "        else:\n",
    "            continue\n",
    "            \n",
    "        frame_start = instance['frame_start']\n",
    "        frame_end = instance['frame_end']\n",
    "        split = instance['split']\n",
    "        data.append({\n",
    "            'gloss': gloss,\n",
    "            'video_path': video_path,\n",
    "            'frame_start': frame_start,\n",
    "            'frame_end': frame_end,\n",
    "            'split': split\n",
    "        })"
   ]
  },
  {
   "cell_type": "code",
   "execution_count": null,
   "metadata": {
    "ExecuteTime": {
     "end_time": "2024-02-10T22:42:31.877168Z",
     "start_time": "2024-02-10T22:42:31.868625Z"
    },
    "execution": {
     "iopub.status.busy": "2024-02-10T08:07:52.200400Z",
     "iopub.status.idle": "2024-02-10T08:07:52.200684Z",
     "shell.execute_reply": "2024-02-10T08:07:52.200558Z",
     "shell.execute_reply.started": "2024-02-10T08:07:52.200543Z"
    },
    "trusted": true
   },
   "outputs": [],
   "source": [
    "len(data)"
   ]
  },
  {
   "cell_type": "code",
   "execution_count": null,
   "metadata": {
    "ExecuteTime": {
     "end_time": "2024-02-10T22:42:31.947246Z",
     "start_time": "2024-02-10T22:42:31.871273Z"
    },
    "execution": {
     "iopub.status.busy": "2024-02-10T08:07:52.201751Z",
     "iopub.status.idle": "2024-02-10T08:07:52.202076Z",
     "shell.execute_reply": "2024-02-10T08:07:52.201926Z",
     "shell.execute_reply.started": "2024-02-10T08:07:52.201911Z"
    },
    "trusted": true
   },
   "outputs": [],
   "source": [
    "# Save the organized dictionary for future uses\n",
    "\n",
    "with open('working/WLASL_parsed_data.json', 'w') as json_file:\n",
    "    json.dump(data, json_file, indent=4)\n",
    "    \n",
    "FileLink(r'WLASL_parsed_data.json')"
   ]
  },
  {
   "cell_type": "markdown",
   "metadata": {},
   "source": [
    "---"
   ]
  },
  {
   "cell_type": "markdown",
   "metadata": {},
   "source": [
    "\n",
    "# MediaPipe Implementation (Not important when training)"
   ]
  },
  {
   "cell_type": "markdown",
   "metadata": {},
   "source": [
    "## Landmarks\n",
    "* Hands : we'll keep all **42** of them, as they are the most important part.\n",
    "* Pose : **6** landmarks for the upper body excluding the face, as we have dedicated process for it.\n",
    "* Face : out of the **478** landmarks, we'll choose **132**, focusing on the lips, eyes, eyebrows, and the outline of the face.\n",
    "* This brings the total number of landmarks to **180**, each with coordinates (x, y, z).   "
   ]
  },
  {
   "cell_type": "code",
   "execution_count": null,
   "metadata": {
    "ExecuteTime": {
     "end_time": "2024-02-10T22:42:31.954536Z",
     "start_time": "2024-02-10T22:42:31.948117Z"
    },
    "execution": {
     "iopub.status.busy": "2024-02-10T08:07:52.203071Z",
     "iopub.status.idle": "2024-02-10T08:07:52.203402Z",
     "shell.execute_reply": "2024-02-10T08:07:52.203218Z",
     "shell.execute_reply.started": "2024-02-10T08:07:52.203204Z"
    },
    "trusted": true
   },
   "outputs": [],
   "source": [
    "filtered_hand = list(range(21))\n",
    "\n",
    "filtered_pose = [11, 12, 13, 14, 15, 16]\n",
    "\n",
    "filtered_face = [0, 4, 7, 8, 10, 13, 14, 17, 21, 33, 37, 39, 40, 46, 52, 53, 54, 55, 58,\n",
    "                 61, 63, 65, 66, 67, 70, 78, 80, 81, 82, 84, 87, 88, 91, 93, 95, 103, 105,\n",
    "                 107, 109, 127, 132, 133, 136, 144, 145, 146, 148, 149, 150, 152, 153, 154,\n",
    "                 155, 157, 158, 159, 160, 161, 162, 163, 172, 173, 176, 178, 181, 185, 191,\n",
    "                 234, 246, 249, 251, 263, 267, 269, 270, 276, 282, 283, 284, 285, 288, 291,\n",
    "                 293, 295, 296, 297, 300, 308, 310, 311, 312, 314, 317, 318, 321, 323, 324,\n",
    "                 332, 334, 336, 338, 356, 361, 362, 365, 373, 374, 375, 377, 378, 379, 380,\n",
    "                 381, 382, 384, 385, 386, 387, 388, 389, 390, 397, 398, 400, 402, 405, 409,\n",
    "                 415, 454, 466, 468, 473]\n",
    "\n",
    "HAND_NUM = len(filtered_hand)\n",
    "POSE_NUM = len(filtered_pose)\n",
    "FACE_NUM = len(filtered_face)"
   ]
  },
  {
   "cell_type": "markdown",
   "metadata": {},
   "source": [
    "## Extract landmarks from a frame"
   ]
  },
  {
   "cell_type": "code",
   "execution_count": null,
   "metadata": {
    "ExecuteTime": {
     "end_time": "2024-02-10T22:42:32.000232Z",
     "start_time": "2024-02-10T22:42:31.975346Z"
    },
    "execution": {
     "iopub.status.busy": "2024-02-10T08:07:52.204283Z",
     "iopub.status.idle": "2024-02-10T08:07:52.204605Z",
     "shell.execute_reply": "2024-02-10T08:07:52.204462Z",
     "shell.execute_reply.started": "2024-02-10T08:07:52.204446Z"
    },
    "trusted": true
   },
   "outputs": [],
   "source": [
    "hands = mp.solutions.hands.Hands()\n",
    "pose = mp.solutions.pose.Pose()\n",
    "face_mesh = mp.solutions.face_mesh.FaceMesh(refine_landmarks=True)\n",
    "\n",
    "def get_frame_landmarks(frame):\n",
    "    \n",
    "    all_landmarks = np.zeros((HAND_NUM * 2 + POSE_NUM + FACE_NUM, 3))\n",
    "    \n",
    "    def get_hands(frame):\n",
    "        results_hands = hands.process(frame)\n",
    "        if results_hands.multi_hand_landmarks:\n",
    "            for i, hand_landmarks in enumerate(results_hands.multi_hand_landmarks):\n",
    "                if results_hands.multi_handedness[i].classification[0].index == 0: \n",
    "                    all_landmarks[:HAND_NUM, :] = np.array(\n",
    "                        [(lm.x, lm.y, lm.z) for lm in hand_landmarks.landmark]) # right\n",
    "                else:\n",
    "                    all_landmarks[HAND_NUM:HAND_NUM * 2, :] = np.array(\n",
    "                        [(lm.x, lm.y, lm.z) for lm in hand_landmarks.landmark]) # left\n",
    "\n",
    "    def get_pose(frame):\n",
    "        results_pose = pose.process(frame)\n",
    "        if results_pose.pose_landmarks:\n",
    "            all_landmarks[HAND_NUM * 2:HAND_NUM * 2 + POSE_NUM, :] = np.array(\n",
    "                [(lm.x, lm.y, lm.z) for lm in results_pose.pose_landmarks.landmark])[filtered_pose]\n",
    "        \n",
    "    def get_face(frame):\n",
    "        results_face = face_mesh.process(frame)\n",
    "        if results_face.multi_face_landmarks:\n",
    "            all_landmarks[HAND_NUM * 2 + POSE_NUM:, :] = np.array(\n",
    "                [(lm.x, lm.y, lm.z) for lm in results_face.multi_face_landmarks[0].landmark])[filtered_face]\n",
    "        \n",
    "    with ThreadPoolExecutor(max_workers=3) as executor:\n",
    "        executor.submit(get_hands, frame)\n",
    "        executor.submit(get_pose, frame)\n",
    "        executor.submit(get_face, frame)\n",
    "\n",
    "    return all_landmarks"
   ]
  },
  {
   "cell_type": "markdown",
   "metadata": {},
   "source": [
    "## Extracting landmarks from a video"
   ]
  },
  {
   "cell_type": "code",
   "execution_count": null,
   "metadata": {
    "ExecuteTime": {
     "end_time": "2024-02-10T22:42:32.002276Z",
     "start_time": "2024-02-10T22:42:31.979163Z"
    },
    "execution": {
     "iopub.status.busy": "2024-02-10T08:07:52.205590Z",
     "iopub.status.idle": "2024-02-10T08:07:52.205880Z",
     "shell.execute_reply": "2024-02-10T08:07:52.205749Z",
     "shell.execute_reply.started": "2024-02-10T08:07:52.205735Z"
    },
    "trusted": true
   },
   "outputs": [],
   "source": [
    "def get_video_landmarks(video_path, start_frame=1, end_frame=-1):\n",
    "    cap = cv2.VideoCapture(video_path)\n",
    "    \n",
    "    # if the starting is 0\n",
    "    if start_frame <= 1:\n",
    "        start_frame = 1\n",
    "        \n",
    "    # if the video is pre-cropped\n",
    "    elif start_frame > int(cap.get(cv2.CAP_PROP_FRAME_COUNT)):\n",
    "        start_frame = 1\n",
    "        end_frame = int(cap.get(cv2.CAP_PROP_FRAME_COUNT))\n",
    "        \n",
    "    # if the final frame was not given (-1)    \n",
    "    if end_frame < 0: \n",
    "        end_frame = int(cap.get(cv2.CAP_PROP_FRAME_COUNT))\n",
    "\n",
    "    num_landmarks = HAND_NUM * 2 + POSE_NUM + FACE_NUM\n",
    "    all_frame_landmarks = np.zeros((end_frame - start_frame + 1, num_landmarks, 3))\n",
    "    frame_index = 1\n",
    "    \n",
    "    while cap.isOpened() and frame_index <= end_frame:\n",
    "        ret, frame = cap.read()\n",
    "        if not ret:\n",
    "            break\n",
    "        if frame_index >= start_frame:\n",
    "            frame.flags.writeable = False\n",
    "            frame = cv2.cvtColor(frame, cv2.COLOR_BGR2RGB)\n",
    "            frame_landmarks = get_frame_landmarks(frame)\n",
    "            all_frame_landmarks[frame_index - start_frame] = frame_landmarks\n",
    "\n",
    "        frame_index += 1\n",
    "\n",
    "    cap.release()\n",
    "    hands.reset()\n",
    "    pose.reset()\n",
    "    face_mesh.reset()\n",
    "    return all_frame_landmarks"
   ]
  },
  {
   "cell_type": "markdown",
   "metadata": {},
   "source": [
    "## Drawing landmarks on a video"
   ]
  },
  {
   "cell_type": "code",
   "execution_count": null,
   "metadata": {
    "ExecuteTime": {
     "end_time": "2024-02-10T22:42:32.014938Z",
     "start_time": "2024-02-10T22:42:31.985362Z"
    },
    "execution": {
     "iopub.status.busy": "2024-02-10T08:07:52.207074Z",
     "iopub.status.idle": "2024-02-10T08:07:52.207373Z",
     "shell.execute_reply": "2024-02-10T08:07:52.207234Z",
     "shell.execute_reply.started": "2024-02-10T08:07:52.207219Z"
    },
    "trusted": true
   },
   "outputs": [],
   "source": [
    "def draw_landmarks(input_path, output_path, video_landmarks, start_frame=1, end_frame=-1):\n",
    "    cap = cv2.VideoCapture(input_path)\n",
    "    fps = int(cap.get(cv2.CAP_PROP_FPS))\n",
    "    width = int(cap.get(cv2.CAP_PROP_FRAME_WIDTH))\n",
    "    height = int(cap.get(cv2.CAP_PROP_FRAME_HEIGHT))\n",
    "    fourcc = cv2.VideoWriter_fourcc(*'mp4v')\n",
    "    out = cv2.VideoWriter(output_path, fourcc, fps, (width, height))\n",
    "    \n",
    "    if start_frame <= 1:\n",
    "        start_frame = 1\n",
    "    elif start_frame > int(cap.get(cv2.CAP_PROP_FRAME_COUNT)):\n",
    "        start_frame = 1\n",
    "        end_frame = int(cap.get(cv2.CAP_PROP_FRAME_COUNT))\n",
    "    if end_frame < 0:\n",
    "        end_frame = int(cap.get(cv2.CAP_PROP_FRAME_COUNT))\n",
    "        \n",
    "    frame_index = 1\n",
    "    while cap.isOpened():\n",
    "        ret, frame = cap.read()\n",
    "        if not ret:\n",
    "            break\n",
    "\n",
    "        if frame_index >= start_frame and frame_index <= end_frame:\n",
    "            frame_landmarks = video_landmarks[frame_index - start_frame]\n",
    "            landmarks = [(int(x * width), int(y * height)) for x, y, _ in frame_landmarks]\n",
    "            for x, y in landmarks:\n",
    "                cv2.circle(frame, (x, y), 3, (0, 0, 255), -1)\n",
    "            out.write(frame)\n",
    "        else:\n",
    "            # out.write(frame) # Enable if you want the full video\n",
    "            pass\n",
    "        frame_index += 1\n",
    "\n",
    "    cap.release()\n",
    "    out.release()"
   ]
  },
  {
   "cell_type": "markdown",
   "metadata": {},
   "source": [
    "---"
   ]
  },
  {
   "cell_type": "markdown",
   "metadata": {},
   "source": [
    "# Visualizing Landmarks (Not important when training)"
   ]
  },
  {
   "cell_type": "markdown",
   "metadata": {},
   "source": [
    "## Test on a frame"
   ]
  },
  {
   "cell_type": "code",
   "execution_count": null,
   "metadata": {
    "ExecuteTime": {
     "end_time": "2024-02-10T22:42:33.771940Z",
     "start_time": "2024-02-10T22:42:31.988601Z"
    },
    "execution": {
     "iopub.status.busy": "2024-02-10T08:07:52.208345Z",
     "iopub.status.idle": "2024-02-10T08:07:52.208639Z",
     "shell.execute_reply": "2024-02-10T08:07:52.208510Z",
     "shell.execute_reply.started": "2024-02-10T08:07:52.208495Z"
    },
    "trusted": true
   },
   "outputs": [],
   "source": [
    "import requests\n",
    "from PIL import Image\n",
    "from io import BytesIO\n",
    "\n",
    "image_url = 'https://images.unsplash.com/photo-1515294898968-a408405d7674'\n",
    "response = requests.get(image_url)\n",
    "img = Image.open(BytesIO(response.content))\n",
    "img = cv2.cvtColor(np.array(img), cv2.COLOR_RGB2BGR)\n",
    "\n",
    "plt.figure(figsize=(8, 8))\n",
    "plt.imshow(img[:,:,::-1])\n",
    "plt.axis('off')\n",
    "plt.show()"
   ]
  },
  {
   "cell_type": "code",
   "execution_count": null,
   "metadata": {
    "ExecuteTime": {
     "end_time": "2024-02-10T22:42:34.925931Z",
     "start_time": "2024-02-10T22:42:33.769727Z"
    },
    "execution": {
     "iopub.status.busy": "2024-02-10T08:07:52.209482Z",
     "iopub.status.idle": "2024-02-10T08:07:52.209770Z",
     "shell.execute_reply": "2024-02-10T08:07:52.209641Z",
     "shell.execute_reply.started": "2024-02-10T08:07:52.209626Z"
    },
    "trusted": true
   },
   "outputs": [],
   "source": [
    "height, width, _ = img.shape\n",
    "\n",
    "frame_landmarks = get_frame_landmarks(img[:,:,::-1])\n",
    "for landmark in frame_landmarks:\n",
    "    x = int(landmark[0] * width)\n",
    "    y = int(landmark[1] * height)\n",
    "    cv2.circle(img, (x, y), 10, (0, 255, 0), -1)\n",
    "\n",
    "plt.figure(figsize=(8, 8))\n",
    "plt.imshow(img[:,:,::-1])\n",
    "plt.axis('off')\n",
    "plt.show()"
   ]
  },
  {
   "cell_type": "markdown",
   "metadata": {},
   "source": [
    "## Test on video"
   ]
  },
  {
   "cell_type": "code",
   "execution_count": null,
   "metadata": {
    "ExecuteTime": {
     "end_time": "2024-02-10T22:42:38.514366Z",
     "start_time": "2024-02-10T22:42:34.925320Z"
    },
    "execution": {
     "iopub.status.busy": "2024-02-10T08:07:52.211053Z",
     "iopub.status.idle": "2024-02-10T08:07:52.211350Z",
     "shell.execute_reply": "2024-02-10T08:07:52.211215Z",
     "shell.execute_reply.started": "2024-02-10T08:07:52.211200Z"
    },
    "trusted": true
   },
   "outputs": [],
   "source": [
    "with open('input/mutemotion-output/WLASL_parsed_data.json', 'r') as json_file:\n",
    "    data = json.load(json_file)\n",
    "    \n",
    "test = data[40]\n",
    "video_landmarks = get_video_landmarks(test['video_path'],test['frame_start'],test['frame_end'])\n",
    "\n",
    "output_path = 'working/landmarks_test.mp4'\n",
    "draw_landmarks(test['video_path'], output_path, video_landmarks, test['frame_start'],test['frame_end'])"
   ]
  },
  {
   "cell_type": "code",
   "execution_count": null,
   "metadata": {
    "ExecuteTime": {
     "end_time": "2024-02-10T22:42:38.516772Z",
     "start_time": "2024-02-10T22:42:38.512465Z"
    },
    "execution": {
     "iopub.status.busy": "2024-02-10T08:07:52.212319Z",
     "iopub.status.idle": "2024-02-10T08:07:52.212615Z",
     "shell.execute_reply": "2024-02-10T08:07:52.212485Z",
     "shell.execute_reply.started": "2024-02-10T08:07:52.212470Z"
    },
    "trusted": true
   },
   "outputs": [],
   "source": [
    "# os.remove('working/landmarks_test.mp4')"
   ]
  },
  {
   "cell_type": "markdown",
   "metadata": {},
   "source": [
    "---"
   ]
  },
  {
   "cell_type": "markdown",
   "metadata": {},
   "source": [
    "# Data Encoding (Done Once)"
   ]
  },
  {
   "cell_type": "code",
   "execution_count": null,
   "metadata": {
    "ExecuteTime": {
     "end_time": "2024-02-10T22:42:38.528936Z",
     "start_time": "2024-02-10T22:42:38.514944Z"
    },
    "execution": {
     "iopub.status.busy": "2024-02-10T08:07:52.213629Z",
     "iopub.status.idle": "2024-02-10T08:07:52.213945Z",
     "shell.execute_reply": "2024-02-10T08:07:52.213803Z",
     "shell.execute_reply.started": "2024-02-10T08:07:52.213787Z"
    },
    "trusted": true
   },
   "outputs": [],
   "source": [
    "npy_dir = 'working/landmarks'\n",
    "os.makedirs(npy_dir, exist_ok=True)"
   ]
  },
  {
   "cell_type": "code",
   "execution_count": null,
   "metadata": {
    "execution": {
     "iopub.status.busy": "2024-02-10T08:07:52.214813Z",
     "iopub.status.idle": "2024-02-10T08:07:52.215148Z",
     "shell.execute_reply": "2024-02-10T08:07:52.214989Z",
     "shell.execute_reply.started": "2024-02-10T08:07:52.214972Z"
    },
    "is_executing": true,
    "trusted": true
   },
   "outputs": [],
   "source": [
    "try:\n",
    "    for i in tqdm(range(len(data)), ncols=100):\n",
    "        npy_path = os.path.join(npy_dir, f'{i}.npy')\n",
    "        if os.path.exists(npy_path): continue\n",
    "        video_path = data[i]['video_path']\n",
    "        start = data[i]['frame_start']\n",
    "        end = data[i]['frame_end']\n",
    "        \n",
    "        try:\n",
    "            video_landmarks = get_video_landmarks(video_path, start, end)\n",
    "            np.save(npy_path, video_landmarks)\n",
    "            \n",
    "        except Exception as e:\n",
    "            print(f\"\\nError encoding {video_path}\\n{e}\")\n",
    "            continue   \n",
    "        clear_output(wait=True)\n",
    "\n",
    "except KeyboardInterrupt:\n",
    "    print(\"\\nLoading process interrupted by user.\")"
   ]
  },
  {
   "cell_type": "code",
   "execution_count": null,
   "metadata": {
    "execution": {
     "iopub.status.busy": "2024-02-10T08:07:52.216291Z",
     "iopub.status.idle": "2024-02-10T08:07:52.216610Z",
     "shell.execute_reply": "2024-02-10T08:07:52.216470Z",
     "shell.execute_reply.started": "2024-02-10T08:07:52.216455Z"
    },
    "is_executing": true,
    "trusted": true
   },
   "outputs": [],
   "source": [
    "landmarks_dict = {}\n",
    "\n",
    "for filename in os.listdir(npy_dir):\n",
    "    if filename.endswith('.npy'):\n",
    "        key = filename.split('.')[0]\n",
    "        landmarks = np.load(os.path.join(npy_dir, filename), allow_pickle=True)\n",
    "        landmarks_dict[key] = landmarks\n",
    "\n",
    "np.savez_compressed('working/landmarks_V2.npz', **landmarks_dict)\n",
    "\n",
    "FileLink(r'landmarks_V2.npz')"
   ]
  },
  {
   "cell_type": "code",
   "execution_count": null,
   "metadata": {
    "execution": {
     "iopub.status.busy": "2024-02-10T08:07:52.217760Z",
     "iopub.status.idle": "2024-02-10T08:07:52.218087Z",
     "shell.execute_reply": "2024-02-10T08:07:52.217930Z",
     "shell.execute_reply.started": "2024-02-10T08:07:52.217914Z"
    },
    "is_executing": true,
    "trusted": true
   },
   "outputs": [],
   "source": [
    "# shutil.rmtree(npy_dir)\n",
    "# os.remove('working/landmarks_V2.npz')"
   ]
  },
  {
   "cell_type": "markdown",
   "metadata": {},
   "source": [
    "---"
   ]
  },
  {
   "cell_type": "markdown",
   "metadata": {},
   "source": [
    "# Label Filtering (Done Once)"
   ]
  },
  {
   "cell_type": "code",
   "execution_count": null,
   "metadata": {},
   "outputs": [],
   "source": [
    "%pip install fasttext"
   ]
  },
  {
   "cell_type": "code",
   "execution_count": null,
   "metadata": {
    "execution": {
     "iopub.status.busy": "2024-02-10T08:07:52.219093Z",
     "iopub.status.idle": "2024-02-10T08:07:52.219409Z",
     "shell.execute_reply": "2024-02-10T08:07:52.219263Z",
     "shell.execute_reply.started": "2024-02-10T08:07:52.219247Z"
    },
    "is_executing": true,
    "trusted": true
   },
   "outputs": [],
   "source": [
    "import fasttext\n",
    "import fasttext.util\n",
    "fasttext.util.download_model('en', if_exists='ignore')\n",
    "ft = fasttext.load_model('cc.en.300.bin')"
   ]
  },
  {
   "cell_type": "code",
   "execution_count": null,
   "metadata": {
    "execution": {
     "iopub.status.busy": "2024-02-10T08:07:52.220317Z",
     "iopub.status.idle": "2024-02-10T08:07:52.220628Z",
     "shell.execute_reply": "2024-02-10T08:07:52.220491Z",
     "shell.execute_reply.started": "2024-02-10T08:07:52.220475Z"
    },
    "is_executing": true,
    "trusted": true
   },
   "outputs": [],
   "source": [
    "labels = list(np.unique(Y_train))\n",
    "len(labels)"
   ]
  },
  {
   "cell_type": "code",
   "execution_count": null,
   "metadata": {
    "execution": {
     "iopub.status.busy": "2024-02-10T08:07:52.221369Z",
     "iopub.status.idle": "2024-02-10T08:07:52.221661Z",
     "shell.execute_reply": "2024-02-10T08:07:52.221526Z",
     "shell.execute_reply.started": "2024-02-10T08:07:52.221511Z"
    },
    "is_executing": true,
    "trusted": true
   },
   "outputs": [],
   "source": [
    "encoded_labels = {label: ft.get_word_vector(label) for label in labels}\n",
    "np.savez_compressed('labels.npz', **encoded_labels)"
   ]
  },
  {
   "cell_type": "code",
   "execution_count": null,
   "metadata": {
    "execution": {
     "iopub.status.busy": "2024-02-10T08:07:52.222493Z",
     "iopub.status.idle": "2024-02-10T08:07:52.222794Z",
     "shell.execute_reply": "2024-02-10T08:07:52.222661Z",
     "shell.execute_reply.started": "2024-02-10T08:07:52.222645Z"
    },
    "is_executing": true,
    "trusted": true
   },
   "outputs": [],
   "source": [
    "ft.get_nearest_neighbors('happy', k=10)"
   ]
  },
  {
   "cell_type": "code",
   "execution_count": null,
   "metadata": {
    "execution": {
     "iopub.status.busy": "2024-02-10T08:07:52.223831Z",
     "iopub.status.idle": "2024-02-10T08:07:52.224161Z",
     "shell.execute_reply": "2024-02-10T08:07:52.224004Z",
     "shell.execute_reply.started": "2024-02-10T08:07:52.223988Z"
    },
    "is_executing": true,
    "trusted": true
   },
   "outputs": [],
   "source": [
    "def cosine_similarity(v1, v2):\n",
    "    return np.dot(v1, v2) / (np.linalg.norm(v1) * np.linalg.norm(v2))\n",
    "\n",
    "word1 = 'happy'\n",
    "word2 = 'pleased'\n",
    "\n",
    "vector1 = ft.get_word_vector(word1)\n",
    "vector2 = ft.get_word_vector(word2)\n",
    "\n",
    "similarity_score = cosine_similarity(vector1, vector2)\n",
    "print(f\"Similarity score between '{word1}' and '{word2}': {similarity_score}\")"
   ]
  },
  {
   "cell_type": "code",
   "execution_count": null,
   "metadata": {
    "execution": {
     "iopub.status.busy": "2024-02-10T08:07:52.225232Z",
     "iopub.status.idle": "2024-02-10T08:07:52.225564Z",
     "shell.execute_reply": "2024-02-10T08:07:52.225424Z",
     "shell.execute_reply.started": "2024-02-10T08:07:52.225394Z"
    },
    "is_executing": true,
    "trusted": true
   },
   "outputs": [],
   "source": [
    "labels_dict = np.load('working/labels.npz', allow_pickle=True)"
   ]
  },
  {
   "cell_type": "code",
   "execution_count": null,
   "metadata": {
    "execution": {
     "iopub.status.busy": "2024-02-10T08:07:52.226543Z",
     "iopub.status.idle": "2024-02-10T08:07:52.226858Z",
     "shell.execute_reply": "2024-02-10T08:07:52.226714Z",
     "shell.execute_reply.started": "2024-02-10T08:07:52.226698Z"
    },
    "is_executing": true,
    "trusted": true
   },
   "outputs": [],
   "source": [
    "word = 'car'\n",
    "word_vector = ft.get_word_vector(word)\n",
    "\n",
    "similarity_scores = []\n",
    "for label, label_vector in labels_dict.items():\n",
    "    similarity_scores.append(cosine_similarity(word_vector, label_vector))"
   ]
  },
  {
   "cell_type": "code",
   "execution_count": null,
   "metadata": {
    "execution": {
     "iopub.status.busy": "2024-02-10T08:07:52.228000Z",
     "iopub.status.idle": "2024-02-10T08:07:52.228321Z",
     "shell.execute_reply": "2024-02-10T08:07:52.228187Z",
     "shell.execute_reply.started": "2024-02-10T08:07:52.228172Z"
    },
    "is_executing": true,
    "trusted": true
   },
   "outputs": [],
   "source": [
    "bins = np.linspace(0, 1, 21)\n",
    "\n",
    "plt.hist(similarity_scores, bins=bins, edgecolor='black')\n",
    "plt.title(f'Cosine Similarity Distribution to \"{word}\"')\n",
    "plt.xlabel('Cosine Similarity')\n",
    "plt.ylabel('Frequency')\n",
    "plt.xticks(np.arange(0, 1.1, 0.1))\n",
    "plt.grid(axis='y')\n",
    "plt.show()"
   ]
  },
  {
   "cell_type": "code",
   "execution_count": null,
   "metadata": {
    "execution": {
     "iopub.status.busy": "2024-02-10T08:07:52.229139Z",
     "iopub.status.idle": "2024-02-10T08:07:52.229457Z",
     "shell.execute_reply": "2024-02-10T08:07:52.229297Z",
     "shell.execute_reply.started": "2024-02-10T08:07:52.229282Z"
    },
    "is_executing": true,
    "trusted": true
   },
   "outputs": [],
   "source": [
    "taxi_words = [\n",
    "    'hello',\n",
    "    'goodbye',\n",
    "    'thank you',\n",
    "    'sorry',\n",
    "    'yes',\n",
    "    'no',\n",
    "    'stop',\n",
    "    'go',\n",
    "    'left',\n",
    "    'right',\n",
    "    'ahead',\n",
    "    'around',\n",
    "    'help',\n",
    "    'address',\n",
    "    'destination',\n",
    "    'time',\n",
    "    'money',\n",
    "    'cost',\n",
    "    'lost',\n",
    "    'map',\n",
    "    'street',\n",
    "    'road'\n",
    "]"
   ]
  },
  {
   "cell_type": "code",
   "execution_count": null,
   "metadata": {
    "execution": {
     "iopub.status.busy": "2024-02-10T08:07:52.230171Z",
     "iopub.status.idle": "2024-02-10T08:07:52.230485Z",
     "shell.execute_reply": "2024-02-10T08:07:52.230341Z",
     "shell.execute_reply.started": "2024-02-10T08:07:52.230325Z"
    },
    "is_executing": true,
    "trusted": true
   },
   "outputs": [],
   "source": [
    "threshold = 0.4\n",
    "similar_words_set = set()\n",
    "taxi_vectors = [ft.get_word_vector(word) for word in taxi_words]\n",
    "\n",
    "for label, label_vector in labels_dict.items():\n",
    "    for taxi_vector in taxi_vectors:\n",
    "        similarity_score = cosine_similarity(taxi_vector, label_vector)\n",
    "        if similarity_score > threshold:\n",
    "            similar_words_set.add(label)\n",
    "            \n",
    "similar_words_list = list(similar_words_set)"
   ]
  },
  {
   "cell_type": "code",
   "execution_count": null,
   "metadata": {
    "execution": {
     "iopub.status.busy": "2024-02-10T08:07:52.231563Z",
     "iopub.status.idle": "2024-02-10T08:07:52.232614Z",
     "shell.execute_reply": "2024-02-10T08:07:52.231732Z",
     "shell.execute_reply.started": "2024-02-10T08:07:52.231716Z"
    },
    "is_executing": true,
    "trusted": true
   },
   "outputs": [],
   "source": [
    "len(similar_words_list)"
   ]
  },
  {
   "cell_type": "code",
   "execution_count": null,
   "metadata": {
    "execution": {
     "iopub.status.busy": "2024-02-10T08:07:52.233538Z",
     "iopub.status.idle": "2024-02-10T08:07:52.233855Z",
     "shell.execute_reply": "2024-02-10T08:07:52.233713Z",
     "shell.execute_reply.started": "2024-02-10T08:07:52.233697Z"
    },
    "is_executing": true,
    "trusted": true
   },
   "outputs": [],
   "source": [
    "with open('working/filtered_labels.txt', 'w') as file:\n",
    "    for label in similar_words_list:\n",
    "        file.write(label + '\\n')"
   ]
  },
  {
   "cell_type": "markdown",
   "metadata": {},
   "source": [
    "---"
   ]
  },
  {
   "cell_type": "markdown",
   "metadata": {},
   "source": [
    "# Data Loading"
   ]
  },
  {
   "cell_type": "code",
   "execution_count": null,
   "metadata": {
    "execution": {
     "iopub.status.busy": "2024-02-10T08:07:52.235138Z",
     "iopub.status.idle": "2024-02-10T08:07:52.235474Z",
     "shell.execute_reply": "2024-02-10T08:07:52.235314Z",
     "shell.execute_reply.started": "2024-02-10T08:07:52.235297Z"
    },
    "is_executing": true,
    "trusted": true
   },
   "outputs": [],
   "source": [
    "landmarks_dict = np.load('input/mutemotion-output/landmarks_V3.npz', allow_pickle=True)"
   ]
  },
  {
   "cell_type": "code",
   "execution_count": null,
   "metadata": {
    "execution": {
     "iopub.status.busy": "2024-02-10T08:07:52.236386Z",
     "iopub.status.idle": "2024-02-10T08:07:52.236701Z",
     "shell.execute_reply": "2024-02-10T08:07:52.236552Z",
     "shell.execute_reply.started": "2024-02-10T08:07:52.236537Z"
    },
    "is_executing": true,
    "trusted": true
   },
   "outputs": [],
   "source": [
    "labels_dict = np.load('input/mutemotion-output/labels.npz', allow_pickle=True)"
   ]
  },
  {
   "cell_type": "code",
   "execution_count": null,
   "metadata": {
    "execution": {
     "iopub.status.busy": "2024-02-10T08:07:52.237703Z",
     "iopub.status.idle": "2024-02-10T08:07:52.238010Z",
     "shell.execute_reply": "2024-02-10T08:07:52.237871Z",
     "shell.execute_reply.started": "2024-02-10T08:07:52.237855Z"
    },
    "is_executing": true,
    "trusted": true
   },
   "outputs": [],
   "source": [
    "with open('input/mutemotion-output/WLASL_parsed_data.json', 'r') as json_file:\n",
    "    data = json.load(json_file)"
   ]
  },
  {
   "cell_type": "markdown",
   "metadata": {},
   "source": [
    "## Filter Landmarks (Only for V3)"
   ]
  },
  {
   "cell_type": "code",
   "execution_count": null,
   "metadata": {
    "execution": {
     "iopub.status.busy": "2024-02-10T08:07:52.239017Z",
     "iopub.status.idle": "2024-02-10T08:07:52.239319Z",
     "shell.execute_reply": "2024-02-10T08:07:52.239188Z",
     "shell.execute_reply.started": "2024-02-10T08:07:52.239174Z"
    },
    "is_executing": true,
    "trusted": true
   },
   "outputs": [],
   "source": [
    "filtered_hand = list(range(21))\n",
    "\n",
    "filtered_pose = [11, 12, 13, 14, 15, 16]\n",
    "\n",
    "filtered_face = [0, 4, 7, 8, 10, 13, 14, 17, 21, 33, 37, 39, 40, 46, 52, 53, 54, 55, 58,\n",
    "                 61, 63, 65, 66, 67, 70, 78, 80, 81, 82, 84, 87, 88, 91, 93, 95, 103, 105,\n",
    "                 107, 109, 127, 132, 133, 136, 144, 145, 146, 148, 149, 150, 152, 153, 154,\n",
    "                 155, 157, 158, 159, 160, 161, 162, 163, 172, 173, 176, 178, 181, 185, 191,\n",
    "                 234, 246, 249, 251, 263, 267, 269, 270, 276, 282, 283, 284, 285, 288, 291,\n",
    "                 293, 295, 296, 297, 300, 308, 310, 311, 312, 314, 317, 318, 321, 323, 324,\n",
    "                 332, 334, 336, 338, 356, 361, 362, 365, 373, 374, 375, 377, 378, 379, 380,\n",
    "                 381, 382, 384, 385, 386, 387, 388, 389, 390, 397, 398, 400, 402, 405, 409,\n",
    "                 415, 454, 466, 468, 473]\n",
    "\n",
    "HAND_NUM = len(filtered_hand)\n",
    "POSE_NUM = len(filtered_pose)\n",
    "FACE_NUM = len(filtered_face)"
   ]
  },
  {
   "cell_type": "code",
   "execution_count": null,
   "metadata": {
    "execution": {
     "iopub.status.busy": "2024-02-10T08:07:52.240139Z",
     "iopub.status.idle": "2024-02-10T08:07:52.240438Z",
     "shell.execute_reply": "2024-02-10T08:07:52.240296Z",
     "shell.execute_reply.started": "2024-02-10T08:07:52.240281Z"
    },
    "is_executing": true,
    "trusted": true
   },
   "outputs": [],
   "source": [
    "landmarks = (\n",
    "    [x for x in filtered_hand] +\n",
    "    [x + HAND_NUM for x in filtered_hand] +\n",
    "    [x + HAND_NUM * 2 for x in filtered_pose] +\n",
    "    [x + HAND_NUM * 2 + POSE_NUM for x in filtered_face]\n",
    ")\n",
    "\n",
    "print(landmarks)\n",
    "print(f'\\nTotal Number: {len(landmarks)}')"
   ]
  },
  {
   "cell_type": "markdown",
   "metadata": {},
   "source": [
    "## Filter Data Source"
   ]
  },
  {
   "cell_type": "code",
   "execution_count": null,
   "metadata": {
    "execution": {
     "iopub.status.busy": "2024-02-10T08:07:52.241228Z",
     "iopub.status.idle": "2024-02-10T08:07:52.241525Z",
     "shell.execute_reply": "2024-02-10T08:07:52.241396Z",
     "shell.execute_reply.started": "2024-02-10T08:07:52.241380Z"
    },
    "is_executing": true,
    "trusted": true
   },
   "outputs": [],
   "source": [
    "# Only from the wlasl-processed dataset\n",
    "# keys = [k for k in landmarks_dict.keys() if 'wlasl-processed' in data[int(k)]['video_path']]\n",
    "\n",
    "# Only from the wlasl2000-resized dataset\n",
    "# keys = [k for k in landmarks_dict.keys() if 'wlasl2000-resized' in data[int(k)]['video_path']]"
   ]
  },
  {
   "cell_type": "markdown",
   "metadata": {},
   "source": [
    "## Filter Labels"
   ]
  },
  {
   "cell_type": "code",
   "execution_count": null,
   "metadata": {
    "execution": {
     "iopub.status.busy": "2024-02-10T08:07:52.242336Z",
     "iopub.status.idle": "2024-02-10T08:07:52.242639Z",
     "shell.execute_reply": "2024-02-10T08:07:52.242501Z",
     "shell.execute_reply.started": "2024-02-10T08:07:52.242486Z"
    },
    "is_executing": true,
    "trusted": true
   },
   "outputs": [],
   "source": [
    "labels = []\n",
    "with open('input/mutemotion-output/filtered_labels.txt', 'r') as file:\n",
    "    labels = file.read().splitlines()"
   ]
  },
  {
   "cell_type": "code",
   "execution_count": null,
   "metadata": {
    "execution": {
     "iopub.status.busy": "2024-02-10T08:07:52.243675Z",
     "iopub.status.idle": "2024-02-10T08:07:52.243995Z",
     "shell.execute_reply": "2024-02-10T08:07:52.243851Z",
     "shell.execute_reply.started": "2024-02-10T08:07:52.243836Z"
    },
    "is_executing": true,
    "trusted": true
   },
   "outputs": [],
   "source": [
    "len(labels)"
   ]
  },
  {
   "cell_type": "markdown",
   "metadata": {},
   "source": [
    "## Loading Function"
   ]
  },
  {
   "cell_type": "code",
   "execution_count": null,
   "metadata": {
    "execution": {
     "iopub.status.busy": "2024-02-10T08:07:52.245022Z",
     "iopub.status.idle": "2024-02-10T08:07:52.245373Z",
     "shell.execute_reply": "2024-02-10T08:07:52.245210Z",
     "shell.execute_reply.started": "2024-02-10T08:07:52.245193Z"
    },
    "is_executing": true,
    "trusted": true
   },
   "outputs": [],
   "source": [
    "def load_data(split, labels=None, max_labels=None, max_samples=None, landmarks=None, keys=None):\n",
    "    \n",
    "    if landmarks is None:\n",
    "        landmarks = list(range(landmarks_dict['0'].shape[1]))\n",
    "    \n",
    "    if keys is None:\n",
    "        keys = [k for k in landmarks_dict.keys()]\n",
    "    \n",
    "    if labels is not None:\n",
    "        X = [landmarks_dict[k][:, landmarks, :] for k in keys\n",
    "             if data[int(k)]['split'] == split and data[int(k)]['gloss'] in labels]\n",
    "        Y = [data[int(k)]['gloss'] for k in keys\n",
    "             if data[int(k)]['split'] == split and data[int(k)]['gloss'] in labels]\n",
    "    \n",
    "    elif max_samples is not None:\n",
    "        X = [landmarks_dict[k][:, landmarks, :] for k in keys\n",
    "             if data[int(k)]['split'] == split][:max_samples]\n",
    "        Y = [data[int(k)]['gloss'] for k in keys\n",
    "             if data[int(k)]['split'] == split][:max_samples]\n",
    "    \n",
    "    elif max_labels is not None:\n",
    "        label_counts = {}\n",
    "        for k in keys:\n",
    "            label = data[int(k)]['gloss']\n",
    "            label_counts[label] = label_counts.get(label, 0) + 1\n",
    "        \n",
    "        top_labels = sorted(label_counts, key=label_counts.get, reverse=True)[:max_labels]\n",
    "        X = [landmarks_dict[k][:, landmarks, :] for k in keys\n",
    "             if data[int(k)]['gloss'] in top_labels and data[int(k)]['split'] == split]\n",
    "        Y = [data[int(k)]['gloss'] for k in keys\n",
    "             if data[int(k)]['gloss'] in top_labels and data[int(k)]['split'] == split]\n",
    "        \n",
    "    else:\n",
    "        X = [landmarks_dict[k][:, landmarks, :] for k in keys\n",
    "             if data[int(k)]['split'] == split]\n",
    "        Y = [data[int(k)]['gloss'] for k in keys\n",
    "             if data[int(k)]['split'] == split]\n",
    "    \n",
    "    return X, Y"
   ]
  },
  {
   "cell_type": "code",
   "execution_count": null,
   "metadata": {
    "execution": {
     "iopub.status.busy": "2024-02-10T08:07:52.246339Z",
     "iopub.status.idle": "2024-02-10T08:07:52.246664Z",
     "shell.execute_reply": "2024-02-10T08:07:52.246525Z",
     "shell.execute_reply.started": "2024-02-10T08:07:52.246509Z"
    },
    "is_executing": true,
    "trusted": true
   },
   "outputs": [],
   "source": [
    "X_train, Y_train = load_data('train', landmarks=landmarks, labels=labels)\n",
    "X_val, Y_val = load_data('val', landmarks=landmarks, labels=labels)\n",
    "X_test, Y_test = load_data('test', landmarks=landmarks, labels=labels)"
   ]
  },
  {
   "cell_type": "code",
   "execution_count": null,
   "metadata": {
    "execution": {
     "iopub.status.busy": "2024-02-10T08:07:52.247714Z",
     "iopub.status.idle": "2024-02-10T08:07:52.248020Z",
     "shell.execute_reply": "2024-02-10T08:07:52.247884Z",
     "shell.execute_reply.started": "2024-02-10T08:07:52.247868Z"
    },
    "is_executing": true,
    "trusted": true
   },
   "outputs": [],
   "source": [
    "len(X_train), len(X_val), len(X_test)"
   ]
  },
  {
   "cell_type": "code",
   "execution_count": null,
   "metadata": {
    "execution": {
     "iopub.status.busy": "2024-02-10T08:07:52.249066Z",
     "iopub.status.idle": "2024-02-10T08:07:52.249355Z",
     "shell.execute_reply": "2024-02-10T08:07:52.249223Z",
     "shell.execute_reply.started": "2024-02-10T08:07:52.249208Z"
    },
    "is_executing": true,
    "trusted": true
   },
   "outputs": [],
   "source": [
    "X_train[0].shape"
   ]
  },
  {
   "cell_type": "code",
   "execution_count": null,
   "metadata": {
    "execution": {
     "iopub.status.busy": "2024-02-10T08:07:52.250230Z",
     "iopub.status.idle": "2024-02-10T08:07:52.250528Z",
     "shell.execute_reply": "2024-02-10T08:07:52.250395Z",
     "shell.execute_reply.started": "2024-02-10T08:07:52.250380Z"
    },
    "is_executing": true,
    "trusted": true
   },
   "outputs": [],
   "source": [
    "len(np.unique(Y_train)), len(np.unique(Y_val)), len(np.unique(Y_test))"
   ]
  },
  {
   "cell_type": "code",
   "execution_count": null,
   "metadata": {
    "execution": {
     "iopub.status.busy": "2024-02-10T08:07:52.251656Z",
     "iopub.status.idle": "2024-02-10T08:07:52.251965Z",
     "shell.execute_reply": "2024-02-10T08:07:52.251827Z",
     "shell.execute_reply.started": "2024-02-10T08:07:52.251811Z"
    },
    "is_executing": true,
    "trusted": true
   },
   "outputs": [],
   "source": [
    "np.all(np.in1d(np.unique(Y_val), np.unique(Y_train))),\\\n",
    "np.all(np.in1d(np.unique(Y_test), np.unique(Y_train)))"
   ]
  },
  {
   "cell_type": "code",
   "execution_count": null,
   "metadata": {
    "execution": {
     "iopub.status.busy": "2024-02-10T08:07:52.252873Z",
     "iopub.status.idle": "2024-02-10T08:07:52.253174Z",
     "shell.execute_reply": "2024-02-10T08:07:52.253031Z",
     "shell.execute_reply.started": "2024-02-10T08:07:52.253016Z"
    },
    "is_executing": true,
    "trusted": true
   },
   "outputs": [],
   "source": [
    "# free space\n",
    "del landmarks_dict, data\n",
    "gc.collect()"
   ]
  },
  {
   "cell_type": "markdown",
   "metadata": {},
   "source": [
    "---"
   ]
  },
  {
   "cell_type": "markdown",
   "metadata": {},
   "source": [
    "# Data Augmentation"
   ]
  },
  {
   "cell_type": "markdown",
   "metadata": {},
   "source": [
    "## Rotation Augmentations"
   ]
  },
  {
   "cell_type": "code",
   "execution_count": null,
   "metadata": {
    "execution": {
     "iopub.status.busy": "2024-02-10T08:07:52.254117Z",
     "iopub.status.idle": "2024-02-10T08:07:52.254444Z",
     "shell.execute_reply": "2024-02-10T08:07:52.254293Z",
     "shell.execute_reply.started": "2024-02-10T08:07:52.254276Z"
    },
    "is_executing": true,
    "trusted": true
   },
   "outputs": [],
   "source": [
    "def rotate(data, rotation_matrix):\n",
    "    frames, landmarks, _ = data.shape\n",
    "    center = np.array([0.5, 0.5, 0])\n",
    "    non_zero = np.argwhere(np.any(data[:, :, :2] != 0, axis=2))\n",
    "    data = data.reshape(-1, 3)\n",
    "    data[non_zero] -= center\n",
    "    data[non_zero] = np.dot(data[non_zero], rotation_matrix.T)\n",
    "    data[non_zero] += center\n",
    "    data = data.reshape(frames, landmarks, 3)\n",
    "    out_of_range = np.any((data[:, :, :2] < 0) | (data[:, :, :2] > 1), axis=2)\n",
    "    data[out_of_range] = 0\n",
    "    return data\n",
    "\n",
    "def rotate_z(data):\n",
    "    angle = np.random.choice([np.random.uniform(-30, -10),\n",
    "                              np.random.uniform(10, 30)])\n",
    "    theta = np.radians(angle)\n",
    "    rotation_matrix = np.array([\n",
    "        [np.cos(theta), -np.sin(theta), 0],\n",
    "        [np.sin(theta), np.cos(theta), 0],\n",
    "        [0, 0, 1]\n",
    "    ])\n",
    "    return rotate(data, rotation_matrix)\n",
    "\n",
    "def rotate_y(data):\n",
    "    angle = np.random.choice([np.random.uniform(-30, -10),\n",
    "                              np.random.uniform(10, 30)])\n",
    "    theta = np.radians(angle)\n",
    "    rotation_matrix = np.array([\n",
    "        [np.cos(theta), 0, np.sin(theta)],\n",
    "        [0, 1, 0],\n",
    "        [-np.sin(theta), 0, np.cos(theta)]\n",
    "    ])\n",
    "    return rotate(data, rotation_matrix)\n",
    "\n",
    "def rotate_x(data):\n",
    "    angle = np.random.choice([np.random.uniform(-30, -10),\n",
    "                              np.random.uniform(10, 30)])\n",
    "    theta = np.radians(angle)\n",
    "    rotation_matrix = np.array([\n",
    "        [1, 0, 0],\n",
    "        [0, np.cos(theta), -np.sin(theta)],\n",
    "        [0, np.sin(theta), np.cos(theta)]\n",
    "    ])\n",
    "    return rotate(data, rotation_matrix)"
   ]
  },
  {
   "cell_type": "markdown",
   "metadata": {},
   "source": [
    "## Other Augmentations"
   ]
  },
  {
   "cell_type": "code",
   "execution_count": null,
   "metadata": {
    "execution": {
     "iopub.status.busy": "2024-02-10T08:07:52.255518Z",
     "iopub.status.idle": "2024-02-10T08:07:52.255822Z",
     "shell.execute_reply": "2024-02-10T08:07:52.255685Z",
     "shell.execute_reply.started": "2024-02-10T08:07:52.255670Z"
    },
    "is_executing": true,
    "trusted": true
   },
   "outputs": [],
   "source": [
    "def zoom(data):\n",
    "    factor = np.random.uniform(0.8, 1.2)\n",
    "    center = np.array([0.5, 0.5])\n",
    "    non_zero = np.argwhere(np.any(data[:, :, :2] != 0, axis=2))\n",
    "    data[non_zero[:, 0], non_zero[:, 1], :2] = (\n",
    "        (data[non_zero[:, 0], non_zero[:, 1], :2] - center) * factor + center\n",
    "    )\n",
    "    out_of_range = np.any((data[:, :, :2] < 0) | (data[:, :, :2] > 1), axis=2)\n",
    "    data[out_of_range] = 0\n",
    "    return data\n",
    "\n",
    "def shift(data):\n",
    "    x_shift = np.random.uniform(-0.2, 0.2)\n",
    "    y_shift = np.random.uniform(-0.2, 0.2)\n",
    "    non_zero = np.argwhere(np.any(data[:, :, :2] != 0, axis=2))\n",
    "    data[non_zero[:, 0], non_zero[:, 1], 0] += x_shift\n",
    "    data[non_zero[:, 0], non_zero[:, 1], 1] += y_shift\n",
    "    out_of_range = np.any((data[:, :, :2] < 0) | (data[:, :, :2] > 1), axis=2)\n",
    "    data[out_of_range] = 0\n",
    "    return data\n",
    "\n",
    "def mask(data):\n",
    "    frames, landmarks, _ = data.shape\n",
    "    num_hands = int(0.3 * 42)\n",
    "    num_rest = int(0.6 * (landmarks - 42))\n",
    "\n",
    "    mask = np.zeros(landmarks, dtype=bool)\n",
    "    indices = np.concatenate([\n",
    "        np.random.choice(42, num_hands, replace=False),\n",
    "        np.random.choice(landmarks - 42, num_rest, replace=False) + 42\n",
    "    ])\n",
    "    mask[indices] = True\n",
    "    data[:, mask] = 0\n",
    "    return data\n",
    "\n",
    "def hflip(data):\n",
    "    data[:, :, 0] = 1 - data[:, :, 0]\n",
    "    return data\n",
    "\n",
    "def speedup(data):\n",
    "    return data[::2]"
   ]
  },
  {
   "cell_type": "markdown",
   "metadata": {},
   "source": [
    "## Apply Augmentations"
   ]
  },
  {
   "cell_type": "code",
   "execution_count": null,
   "metadata": {
    "execution": {
     "iopub.status.busy": "2024-02-10T08:07:52.256700Z",
     "iopub.status.idle": "2024-02-10T08:07:52.257002Z",
     "shell.execute_reply": "2024-02-10T08:07:52.256866Z",
     "shell.execute_reply.started": "2024-02-10T08:07:52.256850Z"
    },
    "is_executing": true,
    "trusted": true
   },
   "outputs": [],
   "source": [
    "def apply_augmentations(data):\n",
    "    aug_functions = [rotate_x, rotate_y, rotate_z, zoom, shift, mask, hflip, speedup]\n",
    "    np.random.shuffle(aug_functions)\n",
    "    counter = 0\n",
    "    for fun in aug_functions:\n",
    "        if np.random.rand() < 0.5:\n",
    "            data = fun(data)\n",
    "            counter += 1\n",
    "    \n",
    "    if counter == 0:\n",
    "        data = apply_augmentations(data)\n",
    "\n",
    "    return data"
   ]
  },
  {
   "cell_type": "code",
   "execution_count": null,
   "metadata": {
    "execution": {
     "iopub.status.busy": "2024-02-10T08:07:52.257991Z",
     "iopub.status.idle": "2024-02-10T08:07:52.258380Z",
     "shell.execute_reply": "2024-02-10T08:07:52.258219Z",
     "shell.execute_reply.started": "2024-02-10T08:07:52.258201Z"
    },
    "is_executing": true,
    "trusted": true
   },
   "outputs": [],
   "source": [
    "def augment(X, Y, num=None):\n",
    "    X_aug = X.copy()\n",
    "    Y_aug = Y.copy()\n",
    "    \n",
    "    if num == None:\n",
    "        for i in tqdm(range(len(Y)), ncols=100):\n",
    "            num_aug = np.random.choice([1, 2, 3])\n",
    "            for n in range(num_aug):\n",
    "                X_aug.append(apply_augmentations(X[i].copy()))\n",
    "                Y_aug.append(Y[i])\n",
    "    elif num > 0:\n",
    "        for i in tqdm(range(len(Y)), ncols=100):\n",
    "            for n in range(num):\n",
    "                X_aug.append(apply_augmentations(X[i].copy()))\n",
    "                Y_aug.append(Y[i])\n",
    "\n",
    "    return X_aug, Y_aug"
   ]
  },
  {
   "cell_type": "code",
   "execution_count": null,
   "metadata": {
    "execution": {
     "iopub.status.busy": "2024-02-10T08:07:52.259538Z",
     "iopub.status.idle": "2024-02-10T08:07:52.259853Z",
     "shell.execute_reply": "2024-02-10T08:07:52.259714Z",
     "shell.execute_reply.started": "2024-02-10T08:07:52.259698Z"
    },
    "is_executing": true,
    "trusted": true
   },
   "outputs": [],
   "source": [
    "X_train, Y_train = augment(X_train, Y_train, num=1)"
   ]
  },
  {
   "cell_type": "code",
   "execution_count": null,
   "metadata": {
    "execution": {
     "iopub.status.busy": "2024-02-10T08:07:52.260627Z",
     "iopub.status.idle": "2024-02-10T08:07:52.260939Z",
     "shell.execute_reply": "2024-02-10T08:07:52.260801Z",
     "shell.execute_reply.started": "2024-02-10T08:07:52.260785Z"
    },
    "is_executing": true,
    "trusted": true
   },
   "outputs": [],
   "source": [
    "len(X_train), len(X_train[0]), len(X_train[0][0]), len(X_train[0][0][0])"
   ]
  },
  {
   "cell_type": "code",
   "execution_count": null,
   "metadata": {
    "execution": {
     "iopub.status.busy": "2024-02-10T08:07:52.261977Z",
     "iopub.status.idle": "2024-02-10T08:07:52.262302Z",
     "shell.execute_reply": "2024-02-10T08:07:52.262163Z",
     "shell.execute_reply.started": "2024-02-10T08:07:52.262147Z"
    },
    "is_executing": true,
    "trusted": true
   },
   "outputs": [],
   "source": [
    "# free space\n",
    "gc.collect()"
   ]
  },
  {
   "cell_type": "markdown",
   "metadata": {},
   "source": [
    "## Data Permutation"
   ]
  },
  {
   "cell_type": "code",
   "execution_count": null,
   "metadata": {
    "execution": {
     "iopub.status.busy": "2024-02-10T08:07:52.263268Z",
     "iopub.status.idle": "2024-02-10T08:07:52.263612Z",
     "shell.execute_reply": "2024-02-10T08:07:52.263468Z",
     "shell.execute_reply.started": "2024-02-10T08:07:52.263452Z"
    },
    "is_executing": true,
    "trusted": true
   },
   "outputs": [],
   "source": [
    "permutation_train = list(range(len(Y_train)))\n",
    "np.random.shuffle(permutation_train)\n",
    "X_train = [X_train[i] for i in permutation_train]\n",
    "Y_train = [Y_train[i] for i in permutation_train]\n",
    "\n",
    "permutation_val = list(range(len(Y_val)))\n",
    "np.random.shuffle(permutation_val)\n",
    "X_val = [X_val[i] for i in permutation_val]\n",
    "Y_val = [Y_val[i] for i in permutation_val]\n",
    "\n",
    "permutation_test = list(range(len(Y_test)))\n",
    "np.random.shuffle(permutation_test)\n",
    "X_test = [X_test[i] for i in permutation_test]\n",
    "Y_test = [Y_test[i] for i in permutation_test]"
   ]
  },
  {
   "cell_type": "markdown",
   "metadata": {},
   "source": [
    "## Test Augmentation (Not necessary when training)"
   ]
  },
  {
   "cell_type": "code",
   "execution_count": null,
   "metadata": {
    "execution": {
     "iopub.status.busy": "2024-02-10T08:07:52.264461Z",
     "iopub.status.idle": "2024-02-10T08:07:52.264774Z",
     "shell.execute_reply": "2024-02-10T08:07:52.264633Z",
     "shell.execute_reply.started": "2024-02-10T08:07:52.264616Z"
    },
    "is_executing": true,
    "trusted": true
   },
   "outputs": [],
   "source": [
    "frame_landmarks = np.expand_dims(frame_landmarks, axis=0)"
   ]
  },
  {
   "cell_type": "code",
   "execution_count": null,
   "metadata": {
    "execution": {
     "iopub.status.busy": "2024-02-10T08:07:52.265663Z",
     "iopub.status.idle": "2024-02-10T08:07:52.265966Z",
     "shell.execute_reply": "2024-02-10T08:07:52.265832Z",
     "shell.execute_reply.started": "2024-02-10T08:07:52.265816Z"
    },
    "is_executing": true,
    "trusted": true
   },
   "outputs": [],
   "source": [
    "frame_landmarks.shape"
   ]
  },
  {
   "cell_type": "code",
   "execution_count": null,
   "metadata": {
    "execution": {
     "iopub.status.busy": "2024-02-10T08:07:52.267448Z",
     "iopub.status.idle": "2024-02-10T08:07:52.267772Z",
     "shell.execute_reply": "2024-02-10T08:07:52.267623Z",
     "shell.execute_reply.started": "2024-02-10T08:07:52.267607Z"
    },
    "is_executing": true,
    "trusted": true
   },
   "outputs": [],
   "source": [
    "fig, axs = plt.subplots(1, 2, figsize=(12, 6))\n",
    "img = np.zeros((img.shape[0], img.shape[1], 3), dtype=np.uint8)\n",
    "\n",
    "for landmark in frame_landmarks[0]:\n",
    "    x = int(landmark[0] * img.shape[1])\n",
    "    y = int(landmark[1] * img.shape[0])\n",
    "    cv2.circle(img, (x, y), 10, (0, 255, 0), -1)\n",
    "    \n",
    "axs[0].set_title('Original Image')\n",
    "axs[0].imshow(img[:, :, ::-1])\n",
    "axs[0].axis('off')\n",
    "\n",
    "augmented_landmarks = apply_augmentations(frame_landmarks.copy())\n",
    "img = np.zeros((img.shape[0], img.shape[1], 3), dtype=np.uint8)\n",
    "\n",
    "for landmark in augmented_landmarks[0]:\n",
    "    x = int(landmark[0] * img.shape[1])\n",
    "    y = int(landmark[1] * img.shape[0])\n",
    "    cv2.circle(img, (x, y), 10, (0, 255, 0), -1)\n",
    "\n",
    "axs[1].set_title('Augmented Image')\n",
    "axs[1].imshow(img[:, :, ::-1])\n",
    "axs[1].axis('off')\n",
    "\n",
    "plt.tight_layout()\n",
    "plt.show()"
   ]
  },
  {
   "cell_type": "markdown",
   "metadata": {},
   "source": [
    "---"
   ]
  },
  {
   "cell_type": "markdown",
   "metadata": {},
   "source": [
    "# Data Preprocessing"
   ]
  },
  {
   "cell_type": "markdown",
   "metadata": {},
   "source": [
    "## **Method 1:** Sequencing"
   ]
  },
  {
   "cell_type": "code",
   "execution_count": null,
   "metadata": {
    "execution": {
     "iopub.status.busy": "2024-02-10T08:07:52.268661Z",
     "iopub.status.idle": "2024-02-10T08:07:52.268967Z",
     "shell.execute_reply": "2024-02-10T08:07:52.268828Z",
     "shell.execute_reply.started": "2024-02-10T08:07:52.268812Z"
    },
    "is_executing": true,
    "trusted": true
   },
   "outputs": [],
   "source": [
    "def sequences(X, Y, length=30, step=1, pad=0):\n",
    "    X_sequences = []\n",
    "    Y_sequences = []\n",
    "\n",
    "    for inputs, label in zip(X, Y):\n",
    "        num = inputs.shape[0]\n",
    "\n",
    "        if num < length:\n",
    "            padding = length - num\n",
    "            inputs = np.pad(\n",
    "            inputs, ((0, padding), (0, 0), (0, 0)),\n",
    "            mode='constant', constant_values=pad\n",
    "            )\n",
    "            num = length\n",
    "\n",
    "        for start in range(0, num - length + 1, step):\n",
    "            end = start + length\n",
    "            sequence = inputs[start:end]\n",
    "            X_sequences.append(sequence)\n",
    "            Y_sequences.append(label)\n",
    "\n",
    "    X_sequences = np.array(X_sequences)\n",
    "    Y_sequences = np.array(Y_sequences)\n",
    "    return X_sequences, Y_sequences"
   ]
  },
  {
   "cell_type": "code",
   "execution_count": null,
   "metadata": {
    "execution": {
     "iopub.status.busy": "2024-02-10T08:07:52.269956Z",
     "iopub.status.idle": "2024-02-10T08:07:52.270282Z",
     "shell.execute_reply": "2024-02-10T08:07:52.270141Z",
     "shell.execute_reply.started": "2024-02-10T08:07:52.270125Z"
    },
    "is_executing": true,
    "trusted": true
   },
   "outputs": [],
   "source": [
    "X_train, Y_train = sequences(X_train, Y_train, length=60, step=20, pad=-100)\n",
    "X_val, Y_val = sequences(X_val, Y_val, length=60, step=20, pad=-100)\n",
    "X_test, Y_test = sequences(X_test, Y_test, length=60, step=20, pad=-100)"
   ]
  },
  {
   "cell_type": "code",
   "execution_count": null,
   "metadata": {
    "execution": {
     "iopub.status.busy": "2024-02-10T08:07:52.271165Z",
     "iopub.status.idle": "2024-02-10T08:07:52.271475Z",
     "shell.execute_reply": "2024-02-10T08:07:52.271331Z",
     "shell.execute_reply.started": "2024-02-10T08:07:52.271315Z"
    },
    "is_executing": true,
    "trusted": true
   },
   "outputs": [],
   "source": [
    "X_train.shape, X_val.shape, X_test.shape"
   ]
  },
  {
   "cell_type": "markdown",
   "metadata": {},
   "source": [
    "## **Method 2:** Padding"
   ]
  },
  {
   "cell_type": "code",
   "execution_count": null,
   "metadata": {
    "execution": {
     "iopub.status.busy": "2024-02-10T08:07:52.272378Z",
     "iopub.status.idle": "2024-02-10T08:07:52.272685Z",
     "shell.execute_reply": "2024-02-10T08:07:52.272546Z",
     "shell.execute_reply.started": "2024-02-10T08:07:52.272530Z"
    },
    "is_executing": true,
    "trusted": true
   },
   "outputs": [],
   "source": [
    "def padding(X, Y, length=None, pad=0):\n",
    "    if length is None:\n",
    "        length = max(len(x) for x in X)\n",
    "    \n",
    "    X_padded = []\n",
    "    for x in X:\n",
    "        if len(x) > length:\n",
    "            X_padded.append(x[:length]) #truncate\n",
    "        else:\n",
    "            pad_length = length - len(x)\n",
    "            X_padded.append(np.pad(\n",
    "                x, ((0, pad_length), (0, 0), (0, 0)),\n",
    "                mode='constant', constant_values=pad\n",
    "            ))\n",
    "            \n",
    "    X_padded = np.array(X_padded)\n",
    "#     Y = np.array(Y)\n",
    "    return X_padded, Y"
   ]
  },
  {
   "cell_type": "code",
   "execution_count": null,
   "metadata": {
    "execution": {
     "iopub.status.busy": "2024-02-10T08:07:52.273609Z",
     "iopub.status.idle": "2024-02-10T08:07:52.273921Z",
     "shell.execute_reply": "2024-02-10T08:07:52.273779Z",
     "shell.execute_reply.started": "2024-02-10T08:07:52.273763Z"
    },
    "is_executing": true,
    "trusted": true
   },
   "outputs": [],
   "source": [
    "X_train, Y_train = padding(X_train, Y_train, length=200, pad=-100)\n",
    "X_val, Y_val = padding(X_val, Y_val, length=200, pad=-100)\n",
    "X_test, Y_test = padding(X_test, Y_test, length=200, pad=-100)"
   ]
  },
  {
   "cell_type": "code",
   "execution_count": null,
   "metadata": {
    "execution": {
     "iopub.status.busy": "2024-02-10T08:07:52.274944Z",
     "iopub.status.idle": "2024-02-10T08:07:52.275292Z",
     "shell.execute_reply": "2024-02-10T08:07:52.275136Z",
     "shell.execute_reply.started": "2024-02-10T08:07:52.275119Z"
    },
    "is_executing": true,
    "trusted": true
   },
   "outputs": [],
   "source": [
    "X_train.shape, X_val.shape, X_test.shape"
   ]
  },
  {
   "cell_type": "markdown",
   "metadata": {},
   "source": [
    "## **Method 3:** Skipping & Cloning"
   ]
  },
  {
   "cell_type": "code",
   "execution_count": null,
   "metadata": {
    "execution": {
     "iopub.status.busy": "2024-02-10T08:07:52.276227Z",
     "iopub.status.idle": "2024-02-10T08:07:52.276540Z",
     "shell.execute_reply": "2024-02-10T08:07:52.276401Z",
     "shell.execute_reply.started": "2024-02-10T08:07:52.276385Z"
    },
    "is_executing": true,
    "trusted": true
   },
   "outputs": [],
   "source": [
    "def skipping(landmarks, desired_frames,mode='floor'):\n",
    "    frames_num = landmarks.shape[0]\n",
    "    if mode == 'floor':\n",
    "        skip_factor = math.floor(frames_num / desired_frames)\n",
    "    elif mode == 'ceil':\n",
    "        skip_factor = math.ceil(frames_num / desired_frames)\n",
    "    skipped_landmarks = []\n",
    "\n",
    "    for i in range(0, frames_num, skip_factor):\n",
    "        skipped_landmarks.append(landmarks[i])\n",
    "        if len(skipped_landmarks)==desired_frames:\n",
    "            break\n",
    "\n",
    "    return np.array(skipped_landmarks)\n",
    "\n",
    "# Test\n",
    "skip_test = np.zeros((90, 180, 3))\n",
    "result_1 = skipping(skip_test, 60)\n",
    "result_2 = skipping(skip_test, 60,'ceil')\n",
    "print(result_1.shape)\n",
    "print(result_2.shape)   "
   ]
  },
  {
   "cell_type": "code",
   "execution_count": null,
   "metadata": {
    "execution": {
     "iopub.status.busy": "2024-02-10T08:07:52.277449Z",
     "iopub.status.idle": "2024-02-10T08:07:52.277757Z",
     "shell.execute_reply": "2024-02-10T08:07:52.277618Z",
     "shell.execute_reply.started": "2024-02-10T08:07:52.277602Z"
    },
    "is_executing": true,
    "trusted": true
   },
   "outputs": [],
   "source": [
    "def cloning(landmarks, desired_frames):\n",
    "    \n",
    "    frames_num = landmarks.shape[0]\n",
    "    repeat_factor = math.ceil(desired_frames / frames_num)\n",
    "    \n",
    "    cloned_list = np.repeat(landmarks, repeat_factor, axis=0)\n",
    "    cloned_list = cloned_list[:desired_frames]\n",
    "    return cloned_list\n",
    "\n",
    "# Test\n",
    "clone_test = np.random.random((29, 180, 3)) \n",
    "result = cloning(clone_test, 60)\n",
    "print(result.shape)"
   ]
  },
  {
   "cell_type": "code",
   "execution_count": null,
   "metadata": {
    "execution": {
     "iopub.status.busy": "2024-02-10T08:07:52.278801Z",
     "iopub.status.idle": "2024-02-10T08:07:52.279125Z",
     "shell.execute_reply": "2024-02-10T08:07:52.278970Z",
     "shell.execute_reply.started": "2024-02-10T08:07:52.278954Z"
    },
    "is_executing": true,
    "trusted": true
   },
   "outputs": [],
   "source": [
    "def clone_skip(landmarks_array,desired_frames):\n",
    "    reshaped_landmarks = []\n",
    "    for landmarks in landmarks_array:\n",
    "        frames_number = landmarks.shape[0]\n",
    "        \n",
    "        if frames_number == desired_frames:\n",
    "            reshaped_landmarks.append(landmarks)\n",
    "        elif frames_number < desired_frames:\n",
    "            reshaped_landmarks.append(cloning(landmarks,desired_frames))\n",
    "        elif frames_number > desired_frames:\n",
    "            reshaped_landmarks.append(skipping(landmarks,desired_frames))\n",
    "    return np.array(reshaped_landmarks)"
   ]
  },
  {
   "cell_type": "markdown",
   "metadata": {},
   "source": [
    "---"
   ]
  },
  {
   "cell_type": "markdown",
   "metadata": {},
   "source": [
    "# Label Encoding"
   ]
  },
  {
   "cell_type": "code",
   "execution_count": null,
   "metadata": {
    "execution": {
     "iopub.status.busy": "2024-02-10T08:07:52.280164Z",
     "iopub.status.idle": "2024-02-10T08:07:52.280462Z",
     "shell.execute_reply": "2024-02-10T08:07:52.280324Z",
     "shell.execute_reply.started": "2024-02-10T08:07:52.280309Z"
    },
    "is_executing": true,
    "trusted": true
   },
   "outputs": [],
   "source": [
    "# label_encoder = LabelEncoder()\n",
    "\n",
    "# Y_train = label_encoder.fit_transform(Y_train)\n",
    "# Y_val = label_encoder.fit_transform(Y_val)\n",
    "# Y_test = label_encoder.fit_transform(Y_test)"
   ]
  },
  {
   "cell_type": "code",
   "execution_count": null,
   "metadata": {
    "execution": {
     "iopub.status.busy": "2024-02-10T08:07:52.281345Z",
     "iopub.status.idle": "2024-02-10T08:07:52.281640Z",
     "shell.execute_reply": "2024-02-10T08:07:52.281511Z",
     "shell.execute_reply.started": "2024-02-10T08:07:52.281496Z"
    },
    "is_executing": true,
    "trusted": true
   },
   "outputs": [],
   "source": [
    "Y_train = np.array([labels_dict[label] for label in Y_train])\n",
    "Y_val = np.array([labels_dict[label] for label in Y_val])\n",
    "Y_test = np.array([labels_dict[label] for label in Y_test])"
   ]
  },
  {
   "cell_type": "code",
   "execution_count": null,
   "metadata": {
    "execution": {
     "iopub.status.busy": "2024-02-10T08:07:52.282630Z",
     "iopub.status.idle": "2024-02-10T08:07:52.282939Z",
     "shell.execute_reply": "2024-02-10T08:07:52.282800Z",
     "shell.execute_reply.started": "2024-02-10T08:07:52.282785Z"
    },
    "is_executing": true,
    "trusted": true
   },
   "outputs": [],
   "source": [
    "Y_train.shape"
   ]
  },
  {
   "cell_type": "code",
   "execution_count": null,
   "metadata": {
    "execution": {
     "iopub.status.busy": "2024-02-10T08:07:52.283723Z",
     "iopub.status.idle": "2024-02-10T08:07:52.284057Z",
     "shell.execute_reply": "2024-02-10T08:07:52.283893Z",
     "shell.execute_reply.started": "2024-02-10T08:07:52.283877Z"
    },
    "is_executing": true,
    "trusted": true
   },
   "outputs": [],
   "source": [
    "# free space\n",
    "gc.collect()"
   ]
  },
  {
   "cell_type": "markdown",
   "metadata": {},
   "source": [
    "---"
   ]
  },
  {
   "cell_type": "markdown",
   "metadata": {},
   "source": [
    "# Models"
   ]
  },
  {
   "cell_type": "markdown",
   "metadata": {},
   "source": [
    "## Kamel's Model"
   ]
  },
  {
   "cell_type": "code",
   "execution_count": null,
   "metadata": {
    "execution": {
     "iopub.status.busy": "2024-02-10T08:07:52.285320Z",
     "iopub.status.idle": "2024-02-10T08:07:52.285663Z",
     "shell.execute_reply": "2024-02-10T08:07:52.285519Z",
     "shell.execute_reply.started": "2024-02-10T08:07:52.285503Z"
    },
    "is_executing": true,
    "trusted": true
   },
   "outputs": [],
   "source": [
    "gc.collect()\n",
    "tf.keras.backend.clear_session()\n",
    "physical_devices = tf.config.list_physical_devices('GPU')\n",
    "for device in physical_devices:\n",
    "    tf.config.experimental.set_memory_growth(device, True)\n",
    "physical_devices"
   ]
  },
  {
   "cell_type": "code",
   "execution_count": null,
   "metadata": {
    "execution": {
     "iopub.status.busy": "2024-02-10T08:07:52.286501Z",
     "iopub.status.idle": "2024-02-10T08:07:52.286805Z",
     "shell.execute_reply": "2024-02-10T08:07:52.286668Z",
     "shell.execute_reply.started": "2024-02-10T08:07:52.286653Z"
    },
    "is_executing": true,
    "trusted": true
   },
   "outputs": [],
   "source": [
    "model = tf.keras.Sequential([\n",
    "    tf.keras.layers.Masking(mask_value=-100, input_shape=(200, 180, 3)),\n",
    "    tf.keras.layers.Flatten(),\n",
    "    \n",
    "    tf.keras.layers.Dense(512, activation='relu'),\n",
    "    tf.keras.layers.BatchNormalization(),\n",
    "    tf.keras.layers.Dropout(rate=0.3),\n",
    "\n",
    "    tf.keras.layers.Dense(512, activation='relu'),\n",
    "    tf.keras.layers.BatchNormalization(),\n",
    "    tf.keras.layers.Dropout(rate=0.3),\n",
    "\n",
    "    tf.keras.layers.Dense(512, activation='relu'),\n",
    "    tf.keras.layers.BatchNormalization(),\n",
    "    tf.keras.layers.Dropout(rate=0.5),\n",
    "\n",
    "    tf.keras.layers.Dense(512, activation='relu'),\n",
    "    tf.keras.layers.BatchNormalization(),\n",
    "    tf.keras.layers.Dropout(rate=0.5),\n",
    "\n",
    "    tf.keras.layers.Dense(300, activation='linear')\n",
    "])"
   ]
  },
  {
   "cell_type": "code",
   "execution_count": null,
   "metadata": {
    "execution": {
     "iopub.status.busy": "2024-02-10T08:07:52.287991Z",
     "iopub.status.idle": "2024-02-10T08:07:52.288330Z",
     "shell.execute_reply": "2024-02-10T08:07:52.288187Z",
     "shell.execute_reply.started": "2024-02-10T08:07:52.288170Z"
    },
    "is_executing": true,
    "trusted": true
   },
   "outputs": [],
   "source": [
    "checkpoint_filepath = 'working/Kamel_Checkpoints/'\n",
    "os.makedirs(checkpoint_filepath, exist_ok=True)\n",
    "\n",
    "model_checkpoint = tf.keras.callbacks.ModelCheckpoint(\n",
    "    filepath=os.path.join(checkpoint_filepath, 'model_{epoch:02d}.h5'),\n",
    "    save_weights_only=True,\n",
    "    save_best_only=True,\n",
    "    monitor='val_accuracy',\n",
    "    mode='max',\n",
    ")\n",
    "\n",
    "lr_scheduler = tf.keras.optimizers.schedules.ExponentialDecay(\n",
    "    initial_learning_rate=0.001,\n",
    "    decay_steps=1000,\n",
    "    decay_rate=0.9\n",
    ")\n",
    "\n",
    "early_stopping = tf.keras.callbacks.EarlyStopping(\n",
    "    monitor='val_accuracy',\n",
    "    patience=50,\n",
    "    restore_best_weights=True\n",
    ")\n",
    "\n",
    "model.compile(\n",
    "    loss=tf.keras.losses.cosine_similarity,\n",
    "    optimizer=tf.keras.optimizers.Adam(learning_rate=lr_scheduler),\n",
    "    metrics=['accuracy']\n",
    ")"
   ]
  },
  {
   "cell_type": "code",
   "execution_count": null,
   "metadata": {
    "execution": {
     "iopub.status.busy": "2024-02-10T08:07:52.289418Z",
     "iopub.status.idle": "2024-02-10T08:07:52.289736Z",
     "shell.execute_reply": "2024-02-10T08:07:52.289599Z",
     "shell.execute_reply.started": "2024-02-10T08:07:52.289582Z"
    },
    "is_executing": true,
    "scrolled": true,
    "trusted": true
   },
   "outputs": [],
   "source": [
    "hist = model.fit(\n",
    "    X_train, Y_train,\n",
    "    validation_data=(X_val, Y_val),\n",
    "    epochs=1000,\n",
    "    batch_size=128,\n",
    "    callbacks=[model_checkpoint, early_stopping]\n",
    ")"
   ]
  },
  {
   "cell_type": "code",
   "execution_count": null,
   "metadata": {
    "execution": {
     "iopub.status.busy": "2024-02-10T08:07:52.290671Z",
     "iopub.status.idle": "2024-02-10T08:07:52.290973Z",
     "shell.execute_reply": "2024-02-10T08:07:52.290837Z",
     "shell.execute_reply.started": "2024-02-10T08:07:52.290821Z"
    },
    "is_executing": true,
    "trusted": true
   },
   "outputs": [],
   "source": [
    "# epoch = 90\n",
    "# model.load_weights(f'working/Kamel_Checkpoints/model_{epoch}.h5')\n",
    "test_loss, test_accuracy = model.evaluate(X_test, Y_test)"
   ]
  },
  {
   "cell_type": "code",
   "execution_count": null,
   "metadata": {
    "execution": {
     "iopub.status.busy": "2024-02-10T08:07:52.292136Z",
     "iopub.status.idle": "2024-02-10T08:07:52.292446Z",
     "shell.execute_reply": "2024-02-10T08:07:52.292304Z",
     "shell.execute_reply.started": "2024-02-10T08:07:52.292289Z"
    },
    "is_executing": true,
    "trusted": true
   },
   "outputs": [],
   "source": [
    "import shutil\n",
    "shutil.rmtree('working/Kamel_Checkpoints')"
   ]
  },
  {
   "cell_type": "code",
   "execution_count": null,
   "metadata": {
    "execution": {
     "iopub.status.busy": "2024-02-10T08:07:52.293261Z",
     "iopub.status.idle": "2024-02-10T08:07:52.293612Z",
     "shell.execute_reply": "2024-02-10T08:07:52.293464Z",
     "shell.execute_reply.started": "2024-02-10T08:07:52.293447Z"
    },
    "is_executing": true,
    "trusted": true
   },
   "outputs": [],
   "source": [
    "train_loss = hist.history['loss']\n",
    "val_loss = hist.history['val_loss']\n",
    "train_acc = hist.history['accuracy']\n",
    "val_acc = hist.history['val_accuracy']\n",
    "\n",
    "# Plotting loss\n",
    "plt.figure(figsize=(10, 5))\n",
    "plt.subplot(1, 2, 1)\n",
    "plt.plot(train_loss, 'g', label='Training loss')\n",
    "plt.plot(val_loss, 'b', label='Validation loss')\n",
    "plt.title('Training and Validation Loss')\n",
    "plt.xlabel('Epochs')\n",
    "plt.ylabel('Loss')\n",
    "plt.legend()\n",
    "\n",
    "# Plotting accuracy\n",
    "plt.subplot(1, 2, 2)\n",
    "plt.plot(train_acc, 'g', label='Training accuracy')\n",
    "plt.plot(val_acc, 'b', label='Validation accuracy')\n",
    "plt.title('Training and Validation Accuracy')\n",
    "plt.xlabel('Epochs')\n",
    "plt.ylabel('Accuracy')\n",
    "plt.legend()\n",
    "\n",
    "plt.tight_layout()\n",
    "plt.show()"
   ]
  },
  {
   "cell_type": "code",
   "execution_count": null,
   "metadata": {
    "execution": {
     "iopub.status.busy": "2024-02-10T08:07:52.294523Z",
     "iopub.status.idle": "2024-02-10T08:07:52.294836Z",
     "shell.execute_reply": "2024-02-10T08:07:52.294697Z",
     "shell.execute_reply.started": "2024-02-10T08:07:52.294681Z"
    },
    "is_executing": true,
    "trusted": true
   },
   "outputs": [],
   "source": [
    "tf.keras.utils.plot_model(model, to_file='model_plot.png', show_shapes=True, show_layer_names=True)\n",
    "img = plt.imread('model_plot.png')\n",
    "plt.figure(figsize=(40, 30))\n",
    "plt.imshow(img)\n",
    "plt.axis('off')\n",
    "plt.show()"
   ]
  },
  {
   "cell_type": "code",
   "execution_count": null,
   "metadata": {
    "execution": {
     "iopub.status.busy": "2024-02-10T08:07:52.295838Z",
     "iopub.status.idle": "2024-02-10T08:07:52.296156Z",
     "shell.execute_reply": "2024-02-10T08:07:52.296003Z",
     "shell.execute_reply.started": "2024-02-10T08:07:52.295987Z"
    },
    "is_executing": true,
    "trusted": true
   },
   "outputs": [],
   "source": [
    "name = '12-14'\n",
    "model_filepath = 'working/Kamel_Models'\n",
    "os.makedirs(model_filepath, exist_ok=True)\n",
    "\n",
    "model.save(model_filepath + f'/{name}')\n",
    "model.save(model_filepath + f'/{name}.h5')\n",
    "\n",
    "converter = tf.lite.TFLiteConverter.from_saved_model(model_filepath + f'/{name}')\n",
    "converter.target_spec.supported_ops = [\n",
    "  tf.lite.OpsSet.TFLITE_BUILTINS,\n",
    "  tf.lite.OpsSet.SELECT_TF_OPS\n",
    "]\n",
    "tflite_model = converter.convert()\n",
    "with open(model_filepath + f'/{name}.tflite', 'wb') as f:\n",
    "    f.write(tflite_model)"
   ]
  },
  {
   "cell_type": "markdown",
   "metadata": {},
   "source": [
    "# Convert to Core ML"
   ]
  },
  {
   "cell_type": "code",
   "execution_count": null,
   "metadata": {
    "execution": {
     "iopub.status.busy": "2024-02-10T08:07:52.296936Z",
     "iopub.status.idle": "2024-02-10T08:07:52.297260Z",
     "shell.execute_reply": "2024-02-10T08:07:52.297122Z",
     "shell.execute_reply.started": "2024-02-10T08:07:52.297106Z"
    },
    "is_executing": true,
    "trusted": true
   },
   "outputs": [],
   "source": [
    "@pip install coremltools\n",
    "import coremltools as ct"
   ]
  }
 ],
 "metadata": {
  "kaggle": {
   "accelerator": "none",
   "dataSources": [
    {
     "datasetId": 1589971,
     "sourceId": 2632847,
     "sourceType": "datasetVersion"
    },
    {
     "datasetId": 2747345,
     "sourceId": 4747505,
     "sourceType": "datasetVersion"
    },
    {
     "datasetId": 4069519,
     "sourceId": 7195461,
     "sourceType": "datasetVersion"
    }
   ],
   "isGpuEnabled": false,
   "isInternetEnabled": true,
   "language": "python",
   "sourceType": "notebook"
  },
  "kernelspec": {
   "display_name": "Python 3",
   "language": "python",
   "name": "python3"
  },
  "language_info": {
   "codemirror_mode": {
    "name": "ipython",
    "version": 3
   },
   "file_extension": ".py",
   "mimetype": "text/x-python",
   "name": "python",
   "nbconvert_exporter": "python",
   "pygments_lexer": "ipython3",
   "version": "3.10.13"
  }
 },
 "nbformat": 4,
 "nbformat_minor": 4
}
